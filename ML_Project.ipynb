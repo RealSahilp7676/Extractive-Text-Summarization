{
  "cells": [
    {
      "cell_type": "markdown",
      "metadata": {
        "id": "view-in-github",
        "colab_type": "text"
      },
      "source": [
        "<a href=\"https://colab.research.google.com/github/RealSahilp7676/Extractive-Text-Summarization/blob/main/ML_Project.ipynb\" target=\"_parent\"><img src=\"https://colab.research.google.com/assets/colab-badge.svg\" alt=\"Open In Colab\"/></a>"
      ]
    },
    {
      "cell_type": "code",
      "source": [
        "!pip install rouge-score"
      ],
      "metadata": {
        "colab": {
          "base_uri": "https://localhost:8080/"
        },
        "id": "Vj6UC-YTgR7G",
        "outputId": "ffcd05ee-1b9f-47d8-f12a-8162b96d5fcf"
      },
      "execution_count": null,
      "outputs": [
        {
          "output_type": "stream",
          "name": "stdout",
          "text": [
            "Collecting rouge-score\n",
            "  Downloading rouge_score-0.1.2.tar.gz (17 kB)\n",
            "  Preparing metadata (setup.py) ... \u001b[?25l\u001b[?25hdone\n",
            "Requirement already satisfied: absl-py in /usr/local/lib/python3.11/dist-packages (from rouge-score) (1.4.0)\n",
            "Requirement already satisfied: nltk in /usr/local/lib/python3.11/dist-packages (from rouge-score) (3.9.1)\n",
            "Requirement already satisfied: numpy in /usr/local/lib/python3.11/dist-packages (from rouge-score) (2.0.2)\n",
            "Requirement already satisfied: six>=1.14.0 in /usr/local/lib/python3.11/dist-packages (from rouge-score) (1.17.0)\n",
            "Requirement already satisfied: click in /usr/local/lib/python3.11/dist-packages (from nltk->rouge-score) (8.1.8)\n",
            "Requirement already satisfied: joblib in /usr/local/lib/python3.11/dist-packages (from nltk->rouge-score) (1.4.2)\n",
            "Requirement already satisfied: regex>=2021.8.3 in /usr/local/lib/python3.11/dist-packages (from nltk->rouge-score) (2024.11.6)\n",
            "Requirement already satisfied: tqdm in /usr/local/lib/python3.11/dist-packages (from nltk->rouge-score) (4.67.1)\n",
            "Building wheels for collected packages: rouge-score\n",
            "  Building wheel for rouge-score (setup.py) ... \u001b[?25l\u001b[?25hdone\n",
            "  Created wheel for rouge-score: filename=rouge_score-0.1.2-py3-none-any.whl size=24935 sha256=35ab6cfccfd8f498a9cf2684dab100379a77dd397caa2df1d75523ae220e1de4\n",
            "  Stored in directory: /root/.cache/pip/wheels/1e/19/43/8a442dc83660ca25e163e1bd1f89919284ab0d0c1475475148\n",
            "Successfully built rouge-score\n",
            "Installing collected packages: rouge-score\n",
            "Successfully installed rouge-score-0.1.2\n"
          ]
        }
      ]
    },
    {
      "cell_type": "code",
      "source": [
        "#Step-1 Import NLP Libraries\n",
        "import nltk\n",
        "import numpy as np\n",
        "import networkx as nx\n",
        "from sklearn.feature_extraction.text import TfidfVectorizer\n",
        "from nltk.tokenize import sent_tokenize\n",
        "from nltk.corpus import stopwords"
      ],
      "metadata": {
        "id": "lKAsclB_y2V3"
      },
      "execution_count": null,
      "outputs": []
    },
    {
      "cell_type": "code",
      "source": [
        "# Download necessary resources\n",
        "nltk.download('punkt_tab')\n",
        "nltk.download('stopwords')"
      ],
      "metadata": {
        "colab": {
          "base_uri": "https://localhost:8080/"
        },
        "id": "BuY4L3DLzTx5",
        "outputId": "88160693-1593-4d93-fe7a-2c342b78fb2f"
      },
      "execution_count": null,
      "outputs": [
        {
          "output_type": "stream",
          "name": "stderr",
          "text": [
            "[nltk_data] Downloading package punkt_tab to /root/nltk_data...\n",
            "[nltk_data]   Unzipping tokenizers/punkt_tab.zip.\n",
            "[nltk_data] Downloading package stopwords to /root/nltk_data...\n",
            "[nltk_data]   Unzipping corpora/stopwords.zip.\n"
          ]
        },
        {
          "output_type": "execute_result",
          "data": {
            "text/plain": [
              "True"
            ]
          },
          "metadata": {},
          "execution_count": 3
        }
      ]
    },
    {
      "cell_type": "code",
      "source": [
        "document = \"\"\"The wind whispered through the ancient trees, carrying secrets from a forgotten time.\n",
        "A lone traveler paused by a crumbling stone wall, tracing the moss-covered carvings with curious fingers.\n",
        "Overhead, a flock of birds darted across the sky, their shadows flickering like memories on the forest floor.\n",
        "Somewhere in the distance, a river hummed a gentle tune, its waters weaving through the land like threads of silver.\n",
        "By nightfall, the stars would emerge, silent witnesses to the mysteries still buried beneath the earth.\"\"\"\n"
      ],
      "metadata": {
        "id": "DHk2_24b0JVc"
      },
      "execution_count": null,
      "outputs": []
    },
    {
      "cell_type": "code",
      "source": [
        "#Step-2 Preprocessing\n",
        "sentences = sent_tokenize(document)\n",
        "stop_words = set(stopwords.words(\"english\"))"
      ],
      "metadata": {
        "id": "dHG0ek8h0Kuh"
      },
      "execution_count": null,
      "outputs": []
    },
    {
      "cell_type": "code",
      "source": [
        "#Step-3 TF-IDF Vectorization\n",
        "vectorizer = TfidfVectorizer(stop_words=list(stop_words), ngram_range=(1, 2))\n",
        "X = vectorizer.fit_transform(sentences)"
      ],
      "metadata": {
        "id": "3WklyaRJ2Gmi"
      },
      "execution_count": null,
      "outputs": []
    },
    {
      "cell_type": "code",
      "source": [
        "# Build Similarity Matrix\n",
        "similarity_matrix = (X * X.T).toarray()\n",
        "np.fill_diagonal(similarity_matrix, 0)\n",
        "\n",
        "# Build similarity graph\n",
        "graph = nx.from_numpy_array(similarity_matrix)\n",
        "scores = nx.pagerank(graph)"
      ],
      "metadata": {
        "id": "b7sDN7nd2L-J"
      },
      "execution_count": null,
      "outputs": []
    },
    {
      "cell_type": "code",
      "source": [
        "num_sentences = min(2, len(sentences))  # Choose top 2 sentences for summary\n",
        "ranked_sentences = sorted(((scores[i], s) for i, s in enumerate(sentences)), reverse=True)\n",
        "summarized_text = \" \".join([sent for _, sent in ranked_sentences[:num_sentences]])"
      ],
      "metadata": {
        "id": "fWL0NJiG2WRw"
      },
      "execution_count": null,
      "outputs": []
    },
    {
      "cell_type": "code",
      "source": [
        "# Output\n",
        "print(\"Original Text:\\n\", document)\n",
        "# print(\"\\nSummarized Text:\\n\", summarized_text)\n",
        "\n",
        "import textwrap\n",
        "wrapped_text = textwrap.fill(summarized_text, width=120)\n",
        "print(\"\\nSummarized Text:\\n\", wrapped_text)\n",
        "\n",
        "from rouge_score import rouge_scorer\n",
        "\n",
        "scorer = rouge_scorer.RougeScorer(['rouge1', 'rouge2', 'rougeL'], use_stemmer=True)\n",
        "scores = scorer.score(document, summarized_text)\n",
        "\n",
        "# Print each metric on a separate line\n",
        "print(\"\\nROUGE-1:\", scores['rouge1'])\n",
        "print(\"ROUGE-2:\", scores['rouge2'])\n",
        "print(\"ROUGE-L:\", scores['rougeL'])\n"
      ],
      "metadata": {
        "colab": {
          "base_uri": "https://localhost:8080/"
        },
        "id": "sZwdYA9C4DVi",
        "outputId": "0c20edff-bce9-4881-f8f3-746a7a248737"
      },
      "execution_count": null,
      "outputs": [
        {
          "output_type": "stream",
          "name": "stdout",
          "text": [
            "Original Text:\n",
            " The wind whispered through the ancient trees, carrying secrets from a forgotten time.\n",
            "A lone traveler paused by a crumbling stone wall, tracing the moss-covered carvings with curious fingers.\n",
            "Overhead, a flock of birds darted across the sky, their shadows flickering like memories on the forest floor.\n",
            "Somewhere in the distance, a river hummed a gentle tune, its waters weaving through the land like threads of silver.\n",
            "By nightfall, the stars would emerge, silent witnesses to the mysteries still buried beneath the earth.\n",
            "\n",
            "Summarized Text:\n",
            " Somewhere in the distance, a river hummed a gentle tune, its waters weaving through the land like threads of silver.\n",
            "Overhead, a flock of birds darted across the sky, their shadows flickering like memories on the forest floor.\n",
            "\n",
            "ROUGE-1: Score(precision=1.0, recall=0.4523809523809524, fmeasure=0.6229508196721312)\n",
            "ROUGE-2: Score(precision=0.972972972972973, recall=0.43373493975903615, fmeasure=0.6)\n",
            "ROUGE-L: Score(precision=0.5789473684210527, recall=0.2619047619047619, fmeasure=0.3606557377049181)\n"
          ]
        }
      ]
    }
  ],
  "metadata": {
    "colab": {
      "gpuType": "T4",
      "provenance": [],
      "authorship_tag": "ABX9TyMpkjmpp5n62I0MDaPEeWEF",
      "include_colab_link": true
    },
    "kernelspec": {
      "display_name": "Python 3",
      "name": "python3"
    },
    "language_info": {
      "name": "python"
    }
  },
  "nbformat": 4,
  "nbformat_minor": 0
}